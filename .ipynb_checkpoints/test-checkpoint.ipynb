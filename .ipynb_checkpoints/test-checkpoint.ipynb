{
 "cells": [
  {
   "cell_type": "code",
   "execution_count": 25,
   "id": "63d10906",
   "metadata": {},
   "outputs": [
    {
     "ename": "TypeError",
     "evalue": "int() argument must be a string, a bytes-like object or a number, not 'list'",
     "output_type": "error",
     "traceback": [
      "\u001b[1;31m---------------------------------------------------------------------------\u001b[0m",
      "\u001b[1;31mTypeError\u001b[0m                                 Traceback (most recent call last)",
      "Input \u001b[1;32mIn [25]\u001b[0m, in \u001b[0;36m<cell line: 14>\u001b[1;34m()\u001b[0m\n\u001b[0;32m      9\u001b[0m             \u001b[38;5;28msum\u001b[39m \u001b[38;5;241m+\u001b[39m\u001b[38;5;241m=\u001b[39m \u001b[38;5;28mint\u001b[39m(arge[i][j])\n\u001b[0;32m     11\u001b[0m     \u001b[38;5;28;01mreturn\u001b[39;00m \u001b[38;5;28msum\u001b[39m\n\u001b[1;32m---> 14\u001b[0m \u001b[43mall_list_sum\u001b[49m\u001b[43m(\u001b[49m\u001b[43m[\u001b[49m\u001b[43m[\u001b[49m\u001b[38;5;241;43m1\u001b[39;49m\u001b[43m]\u001b[49m\u001b[43m,\u001b[49m\u001b[43m \u001b[49m\u001b[43m[\u001b[49m\u001b[38;5;241;43m2\u001b[39;49m\u001b[43m,\u001b[49m\u001b[43m \u001b[49m\u001b[38;5;241;43m3\u001b[39;49m\u001b[43m]\u001b[49m\u001b[43m,\u001b[49m\u001b[43m \u001b[49m\u001b[43m[\u001b[49m\u001b[38;5;241;43m4\u001b[39;49m\u001b[43m,\u001b[49m\u001b[43m \u001b[49m\u001b[38;5;241;43m5\u001b[39;49m\u001b[43m,\u001b[49m\u001b[43m \u001b[49m\u001b[38;5;241;43m6\u001b[39;49m\u001b[43m]\u001b[49m\u001b[43m,\u001b[49m\u001b[43m \u001b[49m\u001b[43m[\u001b[49m\u001b[38;5;241;43m7\u001b[39;49m\u001b[43m,\u001b[49m\u001b[43m \u001b[49m\u001b[38;5;241;43m8\u001b[39;49m\u001b[43m,\u001b[49m\u001b[43m \u001b[49m\u001b[38;5;241;43m9\u001b[39;49m\u001b[43m,\u001b[49m\u001b[43m \u001b[49m\u001b[38;5;241;43m10\u001b[39;49m\u001b[43m]\u001b[49m\u001b[43m]\u001b[49m\u001b[43m)\u001b[49m\n",
      "Input \u001b[1;32mIn [25]\u001b[0m, in \u001b[0;36mall_list_sum\u001b[1;34m(*arge)\u001b[0m\n\u001b[0;32m      5\u001b[0m \u001b[38;5;28;01mfor\u001b[39;00m i \u001b[38;5;129;01min\u001b[39;00m \u001b[38;5;28mrange\u001b[39m(\u001b[38;5;28mlen\u001b[39m(arge)):\n\u001b[0;32m      7\u001b[0m     \u001b[38;5;28;01mfor\u001b[39;00m j \u001b[38;5;129;01min\u001b[39;00m \u001b[38;5;28mrange\u001b[39m(\u001b[38;5;28mlen\u001b[39m(arge[i])):\n\u001b[1;32m----> 9\u001b[0m         \u001b[38;5;28msum\u001b[39m \u001b[38;5;241m+\u001b[39m\u001b[38;5;241m=\u001b[39m \u001b[38;5;28;43mint\u001b[39;49m\u001b[43m(\u001b[49m\u001b[43marge\u001b[49m\u001b[43m[\u001b[49m\u001b[43mi\u001b[49m\u001b[43m]\u001b[49m\u001b[43m[\u001b[49m\u001b[43mj\u001b[49m\u001b[43m]\u001b[49m\u001b[43m)\u001b[49m\n\u001b[0;32m     11\u001b[0m \u001b[38;5;28;01mreturn\u001b[39;00m \u001b[38;5;28msum\u001b[39m\n",
      "\u001b[1;31mTypeError\u001b[0m: int() argument must be a string, a bytes-like object or a number, not 'list'"
     ]
    }
   ],
   "source": [
    "def all_list_sum(*arge):\n",
    "\n",
    "    sum = 0\n",
    "\n",
    "    for i in range(len(arge)):\n",
    "    \n",
    "        for j in range(len(arge[i])):\n",
    "        \n",
    "            sum += int(arge[i][j])\n",
    "    \n",
    "    return sum\n",
    "\n",
    "\n",
    "all_list_sum([[1], [2, 3], [4, 5, 6], [7, 8, 9, 10]]) # => 55"
   ]
  },
  {
   "cell_type": "code",
   "execution_count": 28,
   "id": "74f7d554",
   "metadata": {},
   "outputs": [
    {
     "data": {
      "text/plain": [
       "546"
      ]
     },
     "execution_count": 28,
     "metadata": {},
     "output_type": "execute_result"
    }
   ],
   "source": [
    "def get_secret_number (x):\n",
    "\n",
    "    result = 0\n",
    "\n",
    "    for i in range(len(x)):\n",
    "\n",
    "        result += ord(x[i])\n",
    "        \n",
    "    return result\n",
    "\n",
    "\n",
    "get_secret_number('happy') # => 546"
   ]
  },
  {
   "cell_type": "code",
   "execution_count": 30,
   "id": "11857290",
   "metadata": {},
   "outputs": [
    {
     "ename": "TypeError",
     "evalue": "cannot unpack non-iterable int object",
     "output_type": "error",
     "traceback": [
      "\u001b[1;31m---------------------------------------------------------------------------\u001b[0m",
      "\u001b[1;31mTypeError\u001b[0m                                 Traceback (most recent call last)",
      "Input \u001b[1;32mIn [30]\u001b[0m, in \u001b[0;36m<cell line: 22>\u001b[1;34m()\u001b[0m\n\u001b[0;32m     17\u001b[0m     \u001b[38;5;28;01melse\u001b[39;00m:\n\u001b[0;32m     18\u001b[0m         \u001b[38;5;28;01mreturn\u001b[39;00m b\n\u001b[1;32m---> 22\u001b[0m \u001b[43mget_strong_word\u001b[49m\u001b[43m(\u001b[49m\u001b[38;5;124;43m'\u001b[39;49m\u001b[38;5;124;43mz\u001b[39;49m\u001b[38;5;124;43m'\u001b[39;49m\u001b[43m,\u001b[49m\u001b[43m \u001b[49m\u001b[38;5;124;43m'\u001b[39;49m\u001b[38;5;124;43ma\u001b[39;49m\u001b[38;5;124;43m'\u001b[39;49m\u001b[43m)\u001b[49m \u001b[38;5;66;03m# => 'z'\u001b[39;00m\n\u001b[0;32m     23\u001b[0m get_strong_word(\u001b[38;5;124m'\u001b[39m\u001b[38;5;124mdelilah\u001b[39m\u001b[38;5;124m'\u001b[39m, \u001b[38;5;124m'\u001b[39m\u001b[38;5;124mdixon\u001b[39m\u001b[38;5;124m'\u001b[39m)\n",
      "Input \u001b[1;32mIn [30]\u001b[0m, in \u001b[0;36mget_strong_word\u001b[1;34m(x, y)\u001b[0m\n\u001b[0;32m      1\u001b[0m \u001b[38;5;28;01mdef\u001b[39;00m \u001b[38;5;21mget_strong_word\u001b[39m(x, y):\n\u001b[1;32m----> 3\u001b[0m     a, b ,result \u001b[38;5;241m=\u001b[39m \u001b[38;5;241m0\u001b[39m\n\u001b[0;32m      5\u001b[0m     \u001b[38;5;28;01mfor\u001b[39;00m i \u001b[38;5;129;01min\u001b[39;00m \u001b[38;5;28mrange\u001b[39m(\u001b[38;5;28mlen\u001b[39m(a)):\n\u001b[0;32m      7\u001b[0m         a \u001b[38;5;241m+\u001b[39m\u001b[38;5;241m=\u001b[39m \u001b[38;5;28mord\u001b[39m(x[i])\n",
      "\u001b[1;31mTypeError\u001b[0m: cannot unpack non-iterable int object"
     ]
    }
   ],
   "source": [
    "def get_strong_word(x, y):\n",
    "\n",
    "    a, b ,result = 0\n",
    "\n",
    "    for i in range(len(a)):\n",
    "\n",
    "        a += ord(x[i])\n",
    "\n",
    "    for i in range(len(a)):\n",
    "\n",
    "        b += ord(y[i])\n",
    "\n",
    "    if a > b:\n",
    "        return a\n",
    "    elif a == b:\n",
    "        return a,b\n",
    "    else:\n",
    "        return b\n",
    "\n",
    "\n",
    "\n",
    "get_strong_word('z', 'a') # => 'z'\n",
    "get_strong_word('delilah', 'dixon') # => 'delilah'\n"
   ]
  },
  {
   "cell_type": "code",
   "execution_count": 42,
   "id": "c6870a03",
   "metadata": {},
   "outputs": [
    {
     "name": "stdout",
     "output_type": "stream",
     "text": [
      "10\n",
      "[1, 2, 5]\n"
     ]
    }
   ],
   "source": [
    "num = int(input())\n",
    "div = []\n",
    "i= 1\n",
    "\n",
    "while i < num:\n",
    "    \n",
    "    if num % i == 0:\n",
    "        div.append(i)\n",
    "        i += 1\n",
    "    else:\n",
    "        i += 1\n",
    "    \n",
    "\n",
    "    \n",
    "print(div)"
   ]
  },
  {
   "cell_type": "code",
   "execution_count": 2,
   "id": "944a7125",
   "metadata": {},
   "outputs": [
    {
     "ename": "TypeError",
     "evalue": "cannot unpack non-iterable int object",
     "output_type": "error",
     "traceback": [
      "\u001b[1;31m---------------------------------------------------------------------------\u001b[0m",
      "\u001b[1;31mTypeError\u001b[0m                                 Traceback (most recent call last)",
      "Input \u001b[1;32mIn [2]\u001b[0m, in \u001b[0;36m<cell line: 22>\u001b[1;34m()\u001b[0m\n\u001b[0;32m     17\u001b[0m     \u001b[38;5;28;01melse\u001b[39;00m:\n\u001b[0;32m     18\u001b[0m         \u001b[38;5;28;01mreturn\u001b[39;00m y\n\u001b[1;32m---> 22\u001b[0m \u001b[43mget_strong_word\u001b[49m\u001b[43m(\u001b[49m\u001b[38;5;124;43m'\u001b[39;49m\u001b[38;5;124;43mz\u001b[39;49m\u001b[38;5;124;43m'\u001b[39;49m\u001b[43m,\u001b[49m\u001b[43m \u001b[49m\u001b[38;5;124;43m'\u001b[39;49m\u001b[38;5;124;43ma\u001b[39;49m\u001b[38;5;124;43m'\u001b[39;49m\u001b[43m)\u001b[49m \u001b[38;5;66;03m# => 'z'\u001b[39;00m\n\u001b[0;32m     23\u001b[0m get_strong_word(\u001b[38;5;124m'\u001b[39m\u001b[38;5;124mdelilah\u001b[39m\u001b[38;5;124m'\u001b[39m, \u001b[38;5;124m'\u001b[39m\u001b[38;5;124mdixon\u001b[39m\u001b[38;5;124m'\u001b[39m)\n",
      "Input \u001b[1;32mIn [2]\u001b[0m, in \u001b[0;36mget_strong_word\u001b[1;34m(x, y)\u001b[0m\n\u001b[0;32m      1\u001b[0m \u001b[38;5;28;01mdef\u001b[39;00m \u001b[38;5;21mget_strong_word\u001b[39m(x, y):\n\u001b[1;32m----> 3\u001b[0m     a, b \u001b[38;5;241m=\u001b[39m \u001b[38;5;241m0\u001b[39m\n\u001b[0;32m      5\u001b[0m     \u001b[38;5;28;01mfor\u001b[39;00m i \u001b[38;5;129;01min\u001b[39;00m \u001b[38;5;28mrange\u001b[39m(\u001b[38;5;28mlen\u001b[39m(x)):\n\u001b[0;32m      7\u001b[0m         a \u001b[38;5;241m+\u001b[39m\u001b[38;5;241m=\u001b[39m \u001b[38;5;28mord\u001b[39m(x[i])\n",
      "\u001b[1;31mTypeError\u001b[0m: cannot unpack non-iterable int object"
     ]
    }
   ],
   "source": [
    "def get_strong_word(x, y):\n",
    "\n",
    "    a, b = 0\n",
    "\n",
    "    for i in range(len(x)):\n",
    "\n",
    "        a += ord(x[i])\n",
    "\n",
    "    for i in range(len(y)):\n",
    "\n",
    "        b += ord(y[i])\n",
    "\n",
    "    if a > b:\n",
    "        return x\n",
    "    elif a == b:\n",
    "        return x,y\n",
    "    else:\n",
    "        return y\n",
    "\n",
    "\n",
    "\n",
    "get_strong_word('z', 'a') # => 'z'\n",
    "get_strong_word('delilah', 'dixon') # => 'delilah'"
   ]
  },
  {
   "cell_type": "code",
   "execution_count": 3,
   "id": "5c3ea7ef",
   "metadata": {},
   "outputs": [
    {
     "ename": "TypeError",
     "evalue": "int() argument must be a string, a bytes-like object or a number, not 'list'",
     "output_type": "error",
     "traceback": [
      "\u001b[1;31m---------------------------------------------------------------------------\u001b[0m",
      "\u001b[1;31mTypeError\u001b[0m                                 Traceback (most recent call last)",
      "Input \u001b[1;32mIn [3]\u001b[0m, in \u001b[0;36m<cell line: 14>\u001b[1;34m()\u001b[0m\n\u001b[0;32m      9\u001b[0m             \u001b[38;5;28msum\u001b[39m \u001b[38;5;241m+\u001b[39m\u001b[38;5;241m=\u001b[39m \u001b[38;5;28mint\u001b[39m(arge[i][j])\n\u001b[0;32m     11\u001b[0m     \u001b[38;5;28;01mreturn\u001b[39;00m \u001b[38;5;28msum\u001b[39m\n\u001b[1;32m---> 14\u001b[0m \u001b[43mall_list_sum\u001b[49m\u001b[43m(\u001b[49m\u001b[43m[\u001b[49m\u001b[43m[\u001b[49m\u001b[38;5;241;43m1\u001b[39;49m\u001b[43m]\u001b[49m\u001b[43m,\u001b[49m\u001b[43m \u001b[49m\u001b[43m[\u001b[49m\u001b[38;5;241;43m2\u001b[39;49m\u001b[43m,\u001b[49m\u001b[43m \u001b[49m\u001b[38;5;241;43m3\u001b[39;49m\u001b[43m]\u001b[49m\u001b[43m,\u001b[49m\u001b[43m \u001b[49m\u001b[43m[\u001b[49m\u001b[38;5;241;43m4\u001b[39;49m\u001b[43m,\u001b[49m\u001b[43m \u001b[49m\u001b[38;5;241;43m5\u001b[39;49m\u001b[43m,\u001b[49m\u001b[43m \u001b[49m\u001b[38;5;241;43m6\u001b[39;49m\u001b[43m]\u001b[49m\u001b[43m,\u001b[49m\u001b[43m \u001b[49m\u001b[43m[\u001b[49m\u001b[38;5;241;43m7\u001b[39;49m\u001b[43m,\u001b[49m\u001b[43m \u001b[49m\u001b[38;5;241;43m8\u001b[39;49m\u001b[43m,\u001b[49m\u001b[43m \u001b[49m\u001b[38;5;241;43m9\u001b[39;49m\u001b[43m,\u001b[49m\u001b[43m \u001b[49m\u001b[38;5;241;43m10\u001b[39;49m\u001b[43m]\u001b[49m\u001b[43m]\u001b[49m\u001b[43m)\u001b[49m\n",
      "Input \u001b[1;32mIn [3]\u001b[0m, in \u001b[0;36mall_list_sum\u001b[1;34m(*arge)\u001b[0m\n\u001b[0;32m      5\u001b[0m \u001b[38;5;28;01mfor\u001b[39;00m i \u001b[38;5;129;01min\u001b[39;00m \u001b[38;5;28mrange\u001b[39m(\u001b[38;5;28mlen\u001b[39m(arge)):\n\u001b[0;32m      7\u001b[0m     \u001b[38;5;28;01mfor\u001b[39;00m j \u001b[38;5;129;01min\u001b[39;00m \u001b[38;5;28mrange\u001b[39m(\u001b[38;5;28mlen\u001b[39m(arge[i])):\n\u001b[1;32m----> 9\u001b[0m         \u001b[38;5;28msum\u001b[39m \u001b[38;5;241m+\u001b[39m\u001b[38;5;241m=\u001b[39m \u001b[38;5;28;43mint\u001b[39;49m\u001b[43m(\u001b[49m\u001b[43marge\u001b[49m\u001b[43m[\u001b[49m\u001b[43mi\u001b[49m\u001b[43m]\u001b[49m\u001b[43m[\u001b[49m\u001b[43mj\u001b[49m\u001b[43m]\u001b[49m\u001b[43m)\u001b[49m\n\u001b[0;32m     11\u001b[0m \u001b[38;5;28;01mreturn\u001b[39;00m \u001b[38;5;28msum\u001b[39m\n",
      "\u001b[1;31mTypeError\u001b[0m: int() argument must be a string, a bytes-like object or a number, not 'list'"
     ]
    }
   ],
   "source": [
    "def all_list_sum(*arge):\n",
    "\n",
    "    sum = 0\n",
    "\n",
    "    for i in range(len(arge)):\n",
    "    \n",
    "        for j in range(len(arge[i])):\n",
    "        \n",
    "            sum += int(arge[i][j])\n",
    "    \n",
    "    return sum\n",
    "\n",
    "\n",
    "all_list_sum([[1], [2, 3], [4, 5, 6], [7, 8, 9, 10]]) # => 55"
   ]
  },
  {
   "cell_type": "code",
   "execution_count": 4,
   "id": "ad27b2bb",
   "metadata": {},
   "outputs": [],
   "source": [
    "k = 'aaa'"
   ]
  },
  {
   "cell_type": "code",
   "execution_count": 7,
   "id": "ffeac67e",
   "metadata": {},
   "outputs": [
    {
     "data": {
      "text/plain": [
       "97"
      ]
     },
     "execution_count": 7,
     "metadata": {},
     "output_type": "execute_result"
    }
   ],
   "source": [
    "len(k)\n",
    "ord(k[2])"
   ]
  },
  {
   "cell_type": "code",
   "execution_count": 8,
   "id": "e3328f77",
   "metadata": {},
   "outputs": [
    {
     "ename": "TypeError",
     "evalue": "cannot unpack non-iterable int object",
     "output_type": "error",
     "traceback": [
      "\u001b[1;31m---------------------------------------------------------------------------\u001b[0m",
      "\u001b[1;31mTypeError\u001b[0m                                 Traceback (most recent call last)",
      "Input \u001b[1;32mIn [8]\u001b[0m, in \u001b[0;36m<cell line: 1>\u001b[1;34m()\u001b[0m\n\u001b[1;32m----> 1\u001b[0m a, b \u001b[38;5;241m=\u001b[39m \u001b[38;5;241m0\u001b[39m\n\u001b[0;32m      3\u001b[0m \u001b[38;5;28;01mfor\u001b[39;00m i \u001b[38;5;129;01min\u001b[39;00m \u001b[38;5;28mrange\u001b[39m(\u001b[38;5;28mlen\u001b[39m(x)):\n\u001b[0;32m      5\u001b[0m     a \u001b[38;5;241m+\u001b[39m\u001b[38;5;241m=\u001b[39m \u001b[38;5;28mord\u001b[39m(x[i])\n",
      "\u001b[1;31mTypeError\u001b[0m: cannot unpack non-iterable int object"
     ]
    }
   ],
   "source": [
    "\n",
    "a, b = 0\n",
    "\n",
    "for i in range(len(x)):\n",
    "\n",
    "    a += ord(x[i])\n",
    "\n",
    "for i in range(len(y)):\n",
    "\n",
    "    b += ord(y[i])\n",
    "        \n",
    "print(type(a))"
   ]
  },
  {
   "cell_type": "code",
   "execution_count": 3,
   "id": "ecc34db5",
   "metadata": {},
   "outputs": [],
   "source": [
    "x = 'a'\n",
    "y = 'b'"
   ]
  },
  {
   "cell_type": "code",
   "execution_count": 10,
   "id": "8705d229",
   "metadata": {},
   "outputs": [
    {
     "data": {
      "text/plain": [
       "'delilah'"
      ]
     },
     "execution_count": 10,
     "metadata": {},
     "output_type": "execute_result"
    }
   ],
   "source": [
    "def get_strong_word(x, y):\n",
    "\n",
    "    a = 0\n",
    "    b = 0\n",
    "    \n",
    "    for i in range(len(x)):\n",
    "\n",
    "        a += ord(x[i])\n",
    "\n",
    "    for i in range(len(y)):\n",
    "\n",
    "        b += ord(y[i])\n",
    "\n",
    "    if a > b:\n",
    "        return x\n",
    "    elif a == b:\n",
    "        return x,y\n",
    "    else:\n",
    "        return y\n",
    "\n",
    "\n",
    "\n",
    "get_strong_word('z', 'a') # => 'z'\n",
    "get_strong_word('delilah', 'dixon') # => 'delilah'"
   ]
  },
  {
   "cell_type": "code",
   "execution_count": 11,
   "id": "dd4d6d0e",
   "metadata": {
    "scrolled": true
   },
   "outputs": [
    {
     "ename": "TypeError",
     "evalue": "int() argument must be a string, a bytes-like object or a number, not 'list'",
     "output_type": "error",
     "traceback": [
      "\u001b[1;31m---------------------------------------------------------------------------\u001b[0m",
      "\u001b[1;31mTypeError\u001b[0m                                 Traceback (most recent call last)",
      "Input \u001b[1;32mIn [11]\u001b[0m, in \u001b[0;36m<cell line: 14>\u001b[1;34m()\u001b[0m\n\u001b[0;32m      9\u001b[0m             \u001b[38;5;28msum\u001b[39m \u001b[38;5;241m+\u001b[39m\u001b[38;5;241m=\u001b[39m \u001b[38;5;28mint\u001b[39m(arge[i][j])\n\u001b[0;32m     11\u001b[0m     \u001b[38;5;28;01mreturn\u001b[39;00m \u001b[38;5;28msum\u001b[39m\n\u001b[1;32m---> 14\u001b[0m \u001b[43mall_list_sum\u001b[49m\u001b[43m(\u001b[49m\u001b[43m[\u001b[49m\u001b[43m[\u001b[49m\u001b[38;5;241;43m1\u001b[39;49m\u001b[43m]\u001b[49m\u001b[43m,\u001b[49m\u001b[43m \u001b[49m\u001b[43m[\u001b[49m\u001b[38;5;241;43m2\u001b[39;49m\u001b[43m,\u001b[49m\u001b[43m \u001b[49m\u001b[38;5;241;43m3\u001b[39;49m\u001b[43m]\u001b[49m\u001b[43m,\u001b[49m\u001b[43m \u001b[49m\u001b[43m[\u001b[49m\u001b[38;5;241;43m4\u001b[39;49m\u001b[43m,\u001b[49m\u001b[43m \u001b[49m\u001b[38;5;241;43m5\u001b[39;49m\u001b[43m,\u001b[49m\u001b[43m \u001b[49m\u001b[38;5;241;43m6\u001b[39;49m\u001b[43m]\u001b[49m\u001b[43m,\u001b[49m\u001b[43m \u001b[49m\u001b[43m[\u001b[49m\u001b[38;5;241;43m7\u001b[39;49m\u001b[43m,\u001b[49m\u001b[43m \u001b[49m\u001b[38;5;241;43m8\u001b[39;49m\u001b[43m,\u001b[49m\u001b[43m \u001b[49m\u001b[38;5;241;43m9\u001b[39;49m\u001b[43m,\u001b[49m\u001b[43m \u001b[49m\u001b[38;5;241;43m10\u001b[39;49m\u001b[43m]\u001b[49m\u001b[43m]\u001b[49m\u001b[43m)\u001b[49m\n",
      "Input \u001b[1;32mIn [11]\u001b[0m, in \u001b[0;36mall_list_sum\u001b[1;34m(*arge)\u001b[0m\n\u001b[0;32m      5\u001b[0m \u001b[38;5;28;01mfor\u001b[39;00m i \u001b[38;5;129;01min\u001b[39;00m \u001b[38;5;28mrange\u001b[39m(\u001b[38;5;28mlen\u001b[39m(arge)):\n\u001b[0;32m      7\u001b[0m     \u001b[38;5;28;01mfor\u001b[39;00m j \u001b[38;5;129;01min\u001b[39;00m \u001b[38;5;28mrange\u001b[39m(\u001b[38;5;28mlen\u001b[39m(arge[i])):\n\u001b[1;32m----> 9\u001b[0m         \u001b[38;5;28msum\u001b[39m \u001b[38;5;241m+\u001b[39m\u001b[38;5;241m=\u001b[39m \u001b[38;5;28;43mint\u001b[39;49m\u001b[43m(\u001b[49m\u001b[43marge\u001b[49m\u001b[43m[\u001b[49m\u001b[43mi\u001b[49m\u001b[43m]\u001b[49m\u001b[43m[\u001b[49m\u001b[43mj\u001b[49m\u001b[43m]\u001b[49m\u001b[43m)\u001b[49m\n\u001b[0;32m     11\u001b[0m \u001b[38;5;28;01mreturn\u001b[39;00m \u001b[38;5;28msum\u001b[39m\n",
      "\u001b[1;31mTypeError\u001b[0m: int() argument must be a string, a bytes-like object or a number, not 'list'"
     ]
    }
   ],
   "source": [
    "def all_list_sum(*arge):\n",
    "\n",
    "    sum = 0\n",
    "\n",
    "    for i in range(len(arge)):\n",
    "    \n",
    "        for j in range(len(arge[i])):\n",
    "        \n",
    "            sum += int(arge[i][j])\n",
    "    \n",
    "    return sum\n",
    "\n",
    "\n",
    "all_list_sum([[1], [2, 3], [4, 5, 6], [7, 8, 9, 10]]) # => 55"
   ]
  },
  {
   "cell_type": "code",
   "execution_count": 12,
   "id": "9e3c117b",
   "metadata": {},
   "outputs": [],
   "source": [
    "aaaa =[[1], [2, 3], [4, 5, 6], [7, 8, 9, 10]]\n",
    "\n"
   ]
  },
  {
   "cell_type": "code",
   "execution_count": 1,
   "id": "ffe2cf0a",
   "metadata": {},
   "outputs": [
    {
     "data": {
      "text/plain": [
       "['BANANA']"
      ]
     },
     "execution_count": 1,
     "metadata": {},
     "output_type": "execute_result"
    }
   ],
   "source": [
    "def low_and_up(dataorigin):\n",
    "\n",
    "    data = dataorigin.split()\n",
    "    result= []\n",
    "\n",
    "    for i in range(len(data)):\n",
    "        \n",
    "        j = data[i]\n",
    "        if i % 2:\n",
    "\n",
    "            result.append(j.lower())\n",
    "            print(result)\n",
    "        \n",
    "        else:\n",
    "\n",
    "            result.append(j.upper())\n",
    "    \n",
    "    return result\n",
    "\n",
    "\n",
    "low_and_up('apple') # => aPpLe\n",
    "low_and_up('banana') # => bAnAnA"
   ]
  },
  {
   "cell_type": "code",
   "execution_count": 2,
   "id": "a1d315d5",
   "metadata": {},
   "outputs": [
    {
     "ename": "IndexError",
     "evalue": "list index out of range",
     "output_type": "error",
     "traceback": [
      "\u001b[1;31m---------------------------------------------------------------------------\u001b[0m",
      "\u001b[1;31mIndexError\u001b[0m                                Traceback (most recent call last)",
      "Input \u001b[1;32mIn [2]\u001b[0m, in \u001b[0;36m<cell line: 21>\u001b[1;34m()\u001b[0m\n\u001b[0;32m     15\u001b[0m                 result\u001b[38;5;241m.\u001b[39mappend(data[i])\n\u001b[0;32m     17\u001b[0m     \u001b[38;5;28;01mreturn\u001b[39;00m result\n\u001b[1;32m---> 21\u001b[0m \u001b[43mlonely\u001b[49m\u001b[43m(\u001b[49m\u001b[43m[\u001b[49m\u001b[38;5;241;43m1\u001b[39;49m\u001b[43m,\u001b[49m\u001b[43m \u001b[49m\u001b[38;5;241;43m1\u001b[39;49m\u001b[43m,\u001b[49m\u001b[43m \u001b[49m\u001b[38;5;241;43m3\u001b[39;49m\u001b[43m,\u001b[49m\u001b[43m \u001b[49m\u001b[38;5;241;43m3\u001b[39;49m\u001b[43m,\u001b[49m\u001b[43m \u001b[49m\u001b[38;5;241;43m0\u001b[39;49m\u001b[43m,\u001b[49m\u001b[43m \u001b[49m\u001b[38;5;241;43m1\u001b[39;49m\u001b[43m,\u001b[49m\u001b[43m \u001b[49m\u001b[38;5;241;43m1\u001b[39;49m\u001b[43m]\u001b[49m\u001b[43m)\u001b[49m \u001b[38;5;66;03m# => [1, 3, 0, 1]\u001b[39;00m\n\u001b[0;32m     22\u001b[0m lonely([\u001b[38;5;241m4\u001b[39m, \u001b[38;5;241m4\u001b[39m, \u001b[38;5;241m4\u001b[39m, \u001b[38;5;241m3\u001b[39m, \u001b[38;5;241m3\u001b[39m])\n",
      "Input \u001b[1;32mIn [2]\u001b[0m, in \u001b[0;36mlonely\u001b[1;34m(data)\u001b[0m\n\u001b[0;32m      8\u001b[0m     result\u001b[38;5;241m.\u001b[39mappend(data[i])\n\u001b[0;32m     10\u001b[0m \u001b[38;5;28;01melse\u001b[39;00m:\n\u001b[1;32m---> 11\u001b[0m     \u001b[38;5;28;01mif\u001b[39;00m data[i] \u001b[38;5;241m==\u001b[39m \u001b[43mresult\u001b[49m\u001b[43m[\u001b[49m\u001b[43mi\u001b[49m\u001b[38;5;241;43m-\u001b[39;49m\u001b[38;5;241;43m1\u001b[39;49m\u001b[43m]\u001b[49m:\n\u001b[0;32m     13\u001b[0m         \u001b[38;5;28;01mpass\u001b[39;00m\n\u001b[0;32m     14\u001b[0m     \u001b[38;5;28;01melse\u001b[39;00m:\n",
      "\u001b[1;31mIndexError\u001b[0m: list index out of range"
     ]
    }
   ],
   "source": [
    "def lonely(data):\n",
    "\n",
    "    result = []\n",
    "    \n",
    "    for i in range(len(data)):\n",
    "\n",
    "        if i == 0:\n",
    "            result.append(data[i])\n",
    "\n",
    "        else:\n",
    "            if data[i] == result[i-1]:\n",
    "\n",
    "                pass\n",
    "            else:\n",
    "                result.append(data[i])\n",
    "\n",
    "    return result\n",
    "\n",
    "\n",
    "\n",
    "lonely([1, 1, 3, 3, 0, 1, 1]) # => [1, 3, 0, 1]\n",
    "lonely([4, 4, 4, 3, 3]) # => [4, 3]"
   ]
  },
  {
   "cell_type": "code",
   "execution_count": 11,
   "id": "38cf7d42",
   "metadata": {},
   "outputs": [
    {
     "data": {
      "text/plain": [
       "['b', 'A', 'n', 'A', 'n', 'A']"
      ]
     },
     "execution_count": 11,
     "metadata": {},
     "output_type": "execute_result"
    }
   ],
   "source": [
    "def low_and_up(dataorigin):\n",
    "\n",
    "    data = list(dataorigin)\n",
    "    \n",
    "    result= []\n",
    "\n",
    "    for i in range(len(data)):\n",
    "        \n",
    "        j = data[i]\n",
    "        \n",
    "        if i % 2:\n",
    "        \n",
    "            result.append(j.upper())\n",
    "            \n",
    "            \n",
    "        else:\n",
    "\n",
    "            result.append(j.lower())\n",
    "    \n",
    "    return result\n",
    "\n",
    "\n",
    "low_and_up('apple') # => aPpLe\n",
    "low_and_up('banana') # => bAnAnA"
   ]
  },
  {
   "cell_type": "code",
   "execution_count": 19,
   "id": "4f8d33f4",
   "metadata": {
    "scrolled": true
   },
   "outputs": [
    {
     "data": {
      "text/plain": [
       "['b', 'a', 'n', 'n', 'a', 'a', 'a', 'a']"
      ]
     },
     "execution_count": 19,
     "metadata": {},
     "output_type": "execute_result"
    }
   ],
   "source": [
    "def duplicated_letters(data):\n",
    "\n",
    "    data_list = list(data)\n",
    "    duplicated_no = []\n",
    "    duplicated_yes = []\n",
    "    duplicated_no.append(data_list[0])\n",
    "    #print(data_list)\n",
    "    for i in range(len(data_list)):\n",
    "\n",
    "        for j in range(len(duplicated_no)):\n",
    "            \n",
    "            \n",
    "            if data_list[i] == duplicated_no[j]:\n",
    "\n",
    "                duplicated_yes.append(data_list[i])\n",
    "            \n",
    "            else:\n",
    "\n",
    "                duplicated_no.append(data_list[i])\n",
    "\n",
    "    return duplicated_yes\n",
    "\n",
    "\n",
    "\n",
    "duplicated_letters('apple') # => ['p']\n",
    "duplicated_letters('banana') # => ['a', 'n']"
   ]
  },
  {
   "cell_type": "code",
   "execution_count": 21,
   "id": "4d8c1c92",
   "metadata": {},
   "outputs": [
    {
     "ename": "IndexError",
     "evalue": "list index out of range",
     "output_type": "error",
     "traceback": [
      "\u001b[1;31m---------------------------------------------------------------------------\u001b[0m",
      "\u001b[1;31mIndexError\u001b[0m                                Traceback (most recent call last)",
      "Input \u001b[1;32mIn [21]\u001b[0m, in \u001b[0;36m<cell line: 21>\u001b[1;34m()\u001b[0m\n\u001b[0;32m     15\u001b[0m                 result\u001b[38;5;241m.\u001b[39mappend(data[i])\n\u001b[0;32m     17\u001b[0m     \u001b[38;5;28;01mreturn\u001b[39;00m result\n\u001b[1;32m---> 21\u001b[0m \u001b[43mlonely\u001b[49m\u001b[43m(\u001b[49m\u001b[43m[\u001b[49m\u001b[38;5;241;43m1\u001b[39;49m\u001b[43m,\u001b[49m\u001b[43m \u001b[49m\u001b[38;5;241;43m1\u001b[39;49m\u001b[43m,\u001b[49m\u001b[43m \u001b[49m\u001b[38;5;241;43m3\u001b[39;49m\u001b[43m,\u001b[49m\u001b[43m \u001b[49m\u001b[38;5;241;43m3\u001b[39;49m\u001b[43m,\u001b[49m\u001b[43m \u001b[49m\u001b[38;5;241;43m0\u001b[39;49m\u001b[43m,\u001b[49m\u001b[43m \u001b[49m\u001b[38;5;241;43m1\u001b[39;49m\u001b[43m,\u001b[49m\u001b[43m \u001b[49m\u001b[38;5;241;43m1\u001b[39;49m\u001b[43m]\u001b[49m\u001b[43m)\u001b[49m \u001b[38;5;66;03m# => [1, 3, 0, 1]\u001b[39;00m\n\u001b[0;32m     22\u001b[0m lonely([\u001b[38;5;241m4\u001b[39m, \u001b[38;5;241m4\u001b[39m, \u001b[38;5;241m4\u001b[39m, \u001b[38;5;241m3\u001b[39m, \u001b[38;5;241m3\u001b[39m])\n",
      "Input \u001b[1;32mIn [21]\u001b[0m, in \u001b[0;36mlonely\u001b[1;34m(data)\u001b[0m\n\u001b[0;32m      8\u001b[0m     result\u001b[38;5;241m.\u001b[39mappend(data[i])\n\u001b[0;32m     10\u001b[0m \u001b[38;5;28;01melse\u001b[39;00m:\n\u001b[1;32m---> 11\u001b[0m     \u001b[38;5;28;01mif\u001b[39;00m data[i] \u001b[38;5;241m==\u001b[39m \u001b[43mresult\u001b[49m\u001b[43m[\u001b[49m\u001b[43mi\u001b[49m\u001b[38;5;241;43m-\u001b[39;49m\u001b[38;5;241;43m1\u001b[39;49m\u001b[43m]\u001b[49m:\n\u001b[0;32m     13\u001b[0m         \u001b[38;5;28;01mpass\u001b[39;00m\n\u001b[0;32m     14\u001b[0m     \u001b[38;5;28;01melse\u001b[39;00m:\n",
      "\u001b[1;31mIndexError\u001b[0m: list index out of range"
     ]
    }
   ],
   "source": [
    "def lonely(data):\n",
    "\n",
    "    result = []\n",
    "    result.append(data[0])\n",
    "    for i in range(1,len(data)):\n",
    "\n",
    "        if i == 0:\n",
    "            result.append(data[i])\n",
    "\n",
    "        else:\n",
    "            if data[i] == result[i-1]:\n",
    "\n",
    "                pass\n",
    "            else:\n",
    "                result.append(data[i])\n",
    "\n",
    "    return result\n",
    "\n",
    "\n",
    "\n",
    "lonely([1, 1, 3, 3, 0, 1, 1]) # => [1, 3, 0, 1]\n",
    "lonely([4, 4, 4, 3, 3]) # => [4, 3]"
   ]
  },
  {
   "cell_type": "code",
   "execution_count": null,
   "id": "ee92a02d",
   "metadata": {},
   "outputs": [],
   "source": []
  }
 ],
 "metadata": {
  "kernelspec": {
   "display_name": "Python 3 (ipykernel)",
   "language": "python",
   "name": "python3"
  },
  "language_info": {
   "codemirror_mode": {
    "name": "ipython",
    "version": 3
   },
   "file_extension": ".py",
   "mimetype": "text/x-python",
   "name": "python",
   "nbconvert_exporter": "python",
   "pygments_lexer": "ipython3",
   "version": "3.9.13"
  },
  "toc": {
   "base_numbering": 1,
   "nav_menu": {},
   "number_sections": true,
   "sideBar": true,
   "skip_h1_title": false,
   "title_cell": "Table of Contents",
   "title_sidebar": "Contents",
   "toc_cell": false,
   "toc_position": {},
   "toc_section_display": true,
   "toc_window_display": false
  }
 },
 "nbformat": 4,
 "nbformat_minor": 5
}
